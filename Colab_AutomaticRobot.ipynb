{
  "cells": [
    {
      "cell_type": "markdown",
      "metadata": {
        "id": "view-in-github",
        "colab_type": "text"
      },
      "source": [
        "<a href=\"https://colab.research.google.com/github/CuriousandTime/SportsBetting-Multiplatform-OddsSpread-StatisticalArbitrage/blob/main/Colab_AutomaticRobot.ipynb\" target=\"_parent\"><img src=\"https://colab.research.google.com/assets/colab-badge.svg\" alt=\"Open In Colab\"/></a>"
      ]
    },
    {
      "cell_type": "markdown",
      "source": [
        "# **体育博彩多平台赔率差统计套利**"
      ],
      "metadata": {
        "id": "t_T7omtnyJ4u"
      },
      "id": "t_T7omtnyJ4u"
    },
    {
      "cell_type": "markdown",
      "source": [
        "####清除所有旧文件从新开始"
      ],
      "metadata": {
        "id": "eZrf2Hkq4M2V"
      },
      "id": "eZrf2Hkq4M2V"
    },
    {
      "cell_type": "code",
      "source": [
        "! rm -rf NBA-Machine-Learning-Sports-Betting\n",
        "! rm -rf *"
      ],
      "metadata": {
        "id": "EAFxlui44V6s"
      },
      "id": "EAFxlui44V6s",
      "execution_count": null,
      "outputs": []
    },
    {
      "cell_type": "markdown",
      "source": [
        "####导入依赖关系和获取API密钥\n",
        "[点击到the-odds-api获取API_KEY](https://the-odds-api.com)"
      ],
      "metadata": {
        "id": "uqxusXIY1RdB"
      },
      "id": "uqxusXIY1RdB"
    },
    {
      "cell_type": "code",
      "source": [
        "!pip install XlsxWriter\n"
      ],
      "metadata": {
        "id": "eJSxv9OndOcl"
      },
      "id": "eJSxv9OndOcl",
      "execution_count": null,
      "outputs": []
    },
    {
      "cell_type": "code",
      "execution_count": null,
      "id": "31fa11dc",
      "metadata": {
        "id": "31fa11dc"
      },
      "outputs": [],
      "source": [
        "import requests\n",
        "import xlsxwriter\n",
        "import pandas as pd\n",
        "import numpy as np\n",
        "import openpyxl\n",
        "from openpyxl import Workbook, load_workbook\n",
        "from openpyxl.styles import Border, Side, Font, Alignment, PatternFill, numbers\n",
        "# 替换为自己的API_KEY\n",
        "API_KEY = 'c9c0d0dc971f844e3dbe99a5b73c0d'\n"
      ]
    },
    {
      "cell_type": "markdown",
      "id": "2728ca07",
      "metadata": {
        "id": "2728ca07"
      },
      "source": [
        "####定义常量和进行API调用\n",
        "- ``BET_SIZE`` 是您愿意为每个赌注下的货币金额（美元）。\n",
        "\n",
        "- 例如：如果你定义``BET_SIZE``为100，你就是告诉程序，你的投注金额是100美元平均到两家或者多家博彩平台。"
      ]
    },
    {
      "cell_type": "code",
      "execution_count": null,
      "id": "b07f9912",
      "metadata": {
        "scrolled": false,
        "id": "b07f9912"
      },
      "outputs": [],
      "source": [
        "import requests\n",
        "\n",
        "SPORT = 'upcoming'  # 从 /sports 端点中使用 sport_key，或使用 'upcoming' 来查看所有体育运动的下一场比赛\n",
        "REGIONS = 'us'  # uk | us | eu | au。如果以逗号分隔，则可以指定多个区域。\n",
        "MARKETS = 'h2h'  # h2h | spreads | totals。如果以逗号分隔，则可以指定多个市场。\n",
        "ODDS_FORMAT = 'decimal'  # decimal | american\n",
        "DATE_FORMAT = 'iso'  # iso | unix\n",
        "BET_SIZE = 100\n",
        "\n",
        "odds_response = requests.get(\n",
        "    f'https://api.the-odds-api.com/v4/sports/{SPORT}/odds',\n",
        "    params={\n",
        "        'api_key': 'c9c0d0dc971f844e3dbe99a5b73c0d',  # 同样替换为自己的API_KEY\n",
        "        'regions': REGIONS,\n",
        "        'markets': MARKETS,\n",
        "        'oddsFormat': ODDS_FORMAT,\n",
        "        'dateFormat': DATE_FORMAT,\n",
        "    }\n",
        ").json()\n"
      ]
    },
    {
      "cell_type": "code",
      "execution_count": null,
      "id": "a406cfc7",
      "metadata": {
        "id": "a406cfc7"
      },
      "outputs": [],
      "source": [
        "# 打印赔率\n",
        "print(odds_response)"
      ]
    },
    {
      "cell_type": "markdown",
      "id": "795b37df",
      "metadata": {
        "id": "795b37df"
      },
      "source": [
        "### 活动类别\n",
        "- 每个 ``Event``对象代表一个独立的体育事件\n",
        "- 参数 ``data `` 包含从API调用中收到的所有赔率数据。"
      ]
    },
    {
      "cell_type": "code",
      "execution_count": null,
      "id": "bccd45dc",
      "metadata": {
        "id": "bccd45dc"
      },
      "outputs": [],
      "source": [
        "BOOKMAKER_INDEX = 0  # bookmaker在best_odds中的下标\n",
        "NAME_INDEX = 1  # name在best_odds中的下标\n",
        "ODDS_INDEX = 2  # odds在best_odds中的下标\n",
        "FIRST = 0  # 用于获取某个列表的第一个元素\n",
        "\n",
        "class Event:\n",
        "    def __init__(self, data):\n",
        "        self.data = data\n",
        "        self.sport_key = data['sport_key']  # 体育项目key\n",
        "        self.id = data['id']  # 事件id\n",
        "        self.commence_time = data['commence_time']  # 比赛时间\n",
        "\n",
        "    def find_best_odds(self):\n",
        "        # 可能出现的结果的数量\n",
        "        num_outcomes = len(self.data['bookmakers'][FIRST]['markets'][FIRST]['outcomes'])\n",
        "        self.num_outcomes = num_outcomes\n",
        "\n",
        "        # 找到每个事件中每个结果的最佳赔率\n",
        "        best_odds = [[None, None, float('-inf')] for _ in range(num_outcomes)]\n",
        "        # [Bookmaker, Name, Price]\n",
        "\n",
        "        bookmakers = self.data['bookmakers']\n",
        "        for index, bookmaker in enumerate(bookmakers):\n",
        "\n",
        "            # 确定每个博彩公司提供的赔率\n",
        "            for outcome in range(num_outcomes):\n",
        "\n",
        "                # 确定是否有博彩公司的赔率优于当前的最佳赔率\n",
        "                bookmaker_odds = float(bookmaker['markets'][FIRST]['outcomes'][outcome]['price'])  # 该bookmaker所提供的该outcome的赔率\n",
        "                current_best_odds = best_odds[outcome][ODDS_INDEX]  # 当前最佳的该outcome的赔率\n",
        "\n",
        "                if bookmaker_odds > current_best_odds:  # 如果该bookmaker的该outcome的赔率更优\n",
        "                    best_odds[outcome][BOOKMAKER_INDEX] = bookmaker['title']  # 更新best_odds\n",
        "                    best_odds[outcome][NAME_INDEX] = bookmaker['markets'][FIRST]['outcomes'][outcome]['name']  # 更新best_odds\n",
        "                    best_odds[outcome][ODDS_INDEX] = bookmaker_odds  # 更新best_odds\n",
        "\n",
        "        self.best_odds = best_odds\n",
        "        return best_odds\n",
        "\n",
        "    def arbitrage(self):\n",
        "        total_arbitrage_percentage = 0\n",
        "        for odds in self.best_odds:\n",
        "            total_arbitrage_percentage += (1.0 / odds[ODDS_INDEX])\n",
        "\n",
        "        self.total_arbitrage_percentage = total_arbitrage_percentage\n",
        "        self.expected_earnings = (BET_SIZE / total_arbitrage_percentage) - BET_SIZE\n",
        "\n",
        "        # 如果赔率的倒数之和小于1，就有机会进行套利。\n",
        "        if total_arbitrage_percentage < 1:\n",
        "            return True\n",
        "        return False\n",
        "\n",
        "    # 将decimal赔率转换为American赔率\n",
        "    def convert_decimal_to_american(self):\n",
        "        best_odds = self.best_odds\n",
        "        for odds in best_odds:\n",
        "            decimal = odds[ODDS_INDEX]  # 获取该outcome的decimal赔率\n",
        "            if decimal >= 2:  # 如果是赔率 >= 2\n",
        "                american = (decimal - 1) * 100  # 转换为american赔率\n",
        "            elif decimal < 2:  # 如果是赔率 < 2\n",
        "                american = -100 / (decimal - 1)  # 转换为american赔率\n",
        "            odds[ODDS_INDEX] = round(american, 2)  # 更新best_odds中的\n",
        "        return best_odds\n",
        "\n",
        "    def calculate_arbitrage_bets(self):\n",
        "        bet_amounts = []\n",
        "        for outcome in range(self.num_outcomes):\n",
        "            individual_arbitrage_percentage = 1 / self.best_odds[outcome][ODDS_INDEX] # 获取该outcome的套利百分比\n",
        "            bet_amount = (BET_SIZE * individual_arbitrage_percentage) / self.total_arbitrage_percentage # 计算所需投注金额\n",
        "            bet_amounts.append(round(bet_amount, 2)) # 将投注金额添加到列表中\n",
        "        \n",
        "        self.bet_amounts = bet_amounts # 将计算后的投注金额存入实例属性中\n",
        "        return bet_amounts # 返回计算后的投注金额列表\n"
      ]
    },
    {
      "cell_type": "markdown",
      "id": "0737847a",
      "metadata": {
        "id": "0737847a"
      },
      "source": [
        "### 解析事件和计算套利赌注\n",
        "- `BET_SIZE` 是指你想在一个事件的结果中投注的美元金额。\n",
        "- 这种计算将使用无偏套利，即无论结果如何，利润都是一样的。"
      ]
    },
    {
      "cell_type": "code",
      "execution_count": null,
      "id": "9d71f761",
      "metadata": {
        "id": "9d71f761"
      },
      "outputs": [],
      "source": [
        "# 创建一个空列表用于存储解析后的事件\n",
        "events = []\n",
        "\n",
        "# 解析每个赔率响应中的数据并将其转换为Event对象\n",
        "for data in odds_response:\n",
        "    events.append(Event(data))\n",
        "    print(data)\n",
        "    print()\n",
        "\n",
        "# 创建一个空列表用于存储套利事件\n",
        "arbitrage_events = []\n",
        "\n",
        "# 遍历每个事件并查找最佳赔率，如果找到套利机会则将其添加到arbitrage_events中\n",
        "for event in events:\n",
        "    best_odds = event.find_best_odds()\n",
        "    if event.arbitrage():\n",
        "        arbitrage_events.append(event)\n",
        "\n",
        "# 遍历每个套利事件并计算套利赌注\n",
        "for event in arbitrage_events:\n",
        "    event.calculate_arbitrage_bets()\n",
        "    event.convert_decimal_to_american()"
      ]
    },
    {
      "cell_type": "markdown",
      "id": "4cf86515",
      "metadata": {
        "id": "4cf86515"
      },
      "source": [
        "### 创建数据框架并写入Excel文件"
      ]
    },
    {
      "cell_type": "code",
      "execution_count": null,
      "id": "bdc8da60",
      "metadata": {
        "id": "bdc8da60"
      },
      "outputs": [],
      "source": [
        "# 计算最大结果数和套利机会数\n",
        "MAX_OUTCOMES = max([event.num_outcomes for event in arbitrage_events])\n",
        "ARBITRAGE_EVENTS_COUNT = len(arbitrage_events)\n",
        "\n",
        "# 定义列名称\n",
        "my_columns = ['编号', '赛事编号', '比赛时间', '预期收益'] + list(np.array([[f'博彩平台 #{outcome}', f'球队名称 #{outcome}', f'赔率 #{outcome}', f'购买金额 #{outcome}'] for outcome in range(1, MAX_OUTCOMES + 1)]).flatten())\n",
        "\n",
        "# 创建空DataFrame\n",
        "dataframe = pd.DataFrame(columns=my_columns)"
      ]
    },
    {
      "cell_type": "code",
      "execution_count": null,
      "id": "1976164f",
      "metadata": {
        "id": "1976164f"
      },
      "outputs": [],
      "source": [
        "for event in arbitrage_events:\n",
        "    # 打印(event.best_odds)\n",
        "    row = []\n",
        "    row.append(event.id)\n",
        "    row.append(event.sport_key)\n",
        "    row.append(event.commence_time) # 添加比赛时间\n",
        "    row.append(round(event.expected_earnings, 2))\n",
        "    for index, outcome in enumerate(event.best_odds):\n",
        "        row.append(outcome[BOOKMAKER_INDEX])\n",
        "        row.append(outcome[NAME_INDEX])\n",
        "        row.append(outcome[ODDS_INDEX])\n",
        "        row.append(event.bet_amounts[index])\n",
        "    while len(row) < len(dataframe.columns):\n",
        "        row.append('N/A')\n",
        "    dataframe.loc[len(dataframe.index)] = row"
      ]
    },
    {
      "cell_type": "code",
      "execution_count": null,
      "id": "9aacaf0d",
      "metadata": {
        "id": "9aacaf0d"
      },
      "outputs": [],
      "source": [
        "# 将结果保存为bets.xlsx文件\n",
        "writer = pd.ExcelWriter('bets.xlsx')\n",
        "dataframe.to_excel(writer, index=False)\n",
        "writer.save()"
      ]
    },
    {
      "cell_type": "markdown",
      "id": "84aa0611",
      "metadata": {
        "id": "84aa0611"
      },
      "source": [
        "### 格式化Excel文件"
      ]
    },
    {
      "cell_type": "code",
      "execution_count": null,
      "id": "917c28ca",
      "metadata": {
        "id": "917c28ca"
      },
      "outputs": [],
      "source": [
        "BLACK = '000000'  # 黑色\n",
        "LIGHT_GREY = 'D6D6D6'  # 浅灰色\n",
        "DARK_GREY = '9F9F9F'  # 深灰色\n",
        "RED = 'FEA0A0'  # 红色\n",
        "BLUE = 'A0CEFE'  # 蓝色\n",
        "GREEN = '22D49C'  # 蓝色\n",
        "YELLOW = 'FFE540'  # 黄色\n",
        "\n",
        "COLORS = [RED, BLUE]  # 颜色列表\n",
        "\n",
        "ID_COLUMN_FILL = PatternFill(fill_type='solid', start_color=DARK_GREY, end_color=DARK_GREY)  # 单元格填充样式：ID 列\n",
        "SPORT_KEY_COLUMN_FILL = PatternFill(fill_type='solid', start_color=LIGHT_GREY, end_color=LIGHT_GREY)  # 单元格填充样式：体育关键词列\n",
        "COMMENCE_TIME_COLUMN_FILL = PatternFill(fill_type='solid', start_color=GREEN, end_color=GREEN)  # 单元格填充样式：比赛时间列\n",
        "EXPECTED_EARNINGS_COLUMN_FILL = PatternFill(fill_type='solid', start_color=YELLOW, end_color=YELLOW)  # 单元格填充样式：预期收益列\n",
        "\n",
        "CENTER_ALIGNMENT = Alignment(horizontal='center', vertical='bottom', indent=0)  # 单元格文本对齐方式：水平居中、垂直底部对齐\n",
        "\n",
        "TOP_ROW_BORDER = Border(bottom=Side(border_style='thick', color=BLACK))  # 表头单元格边框\n",
        "NORMAL_ROW_BORDER = Border(top=Side(border_style='thin', color=LIGHT_GREY), bottom=Side(border_style='thin', color=DARK_GREY))  # 普通单元格边框\n",
        "\n",
        " \n",
        "wb = load_workbook('bets.xlsx')  # 加载 Excel 文件\n",
        "ws = wb.active  # 获取活动工作表\n",
        "ws.title = 'Upcoming'  # 将工作表名改为 Upcoming\n",
        "# 修改列宽\n",
        "for col in range(1, 26):\n",
        "    ws.column_dimensions[chr(col + 64)].width = 20\n",
        "\n",
        "            \n",
        "    START_INDEX = chr(ord(START_INDEX) + 4)\n",
        "# 针对 ID 列、体育关键词列和预期收益列，应用单元格填充和文本对齐样式\n",
        "for cell in ws['A']:\n",
        "    cell.fill = ID_COLUMN_FILL\n",
        "    cell.alignment = CENTER_ALIGNMENT\n",
        "    \n",
        "for cell in ws['B']:\n",
        "    cell.fill = SPORT_KEY_COLUMN_FILL\n",
        "    cell.alignment = CENTER_ALIGNMENT\n",
        "\n",
        "for cell in ws['C']:\n",
        "    cell.fill = COMMENCE_TIME_COLUMN_FILL\n",
        "    cell.alignment = CENTER_ALIGNMENT\n",
        "    \n",
        "for cell in ws['D']:\n",
        "    cell.fill = EXPECTED_EARNINGS_COLUMN_FILL\n",
        "    cell.alignment = CENTER_ALIGNMENT\n",
        "    cell.number_format = numbers.BUILTIN_FORMATS[7]  # 将单元格格式设为“货币”\n",
        "\n",
        "START_INDEX = 'E'  # 第一列的字母索引为 E\n",
        "for index in range(MAX_OUTCOMES):\n",
        "    # 对于每个赔率结果，循环处理前三列\n",
        "    for col in ws[START_INDEX : chr(ord(START_INDEX) + 3)]:\n",
        "        for cell in col:\n",
        "            # 设置单元格的填充和对齐方式\n",
        "            color = COLORS[int(index % 2)]\n",
        "            cell.fill = PatternFill(fill_type='solid', start_color=color, end_color=color)\n",
        "            cell.alignment = CENTER_ALIGNMENT\n",
        "            \n",
        "            # 如果该单元格是第五列，则设置数字格式\n",
        "            if cell.column in [8, 12, 16, 20]:\n",
        "                cell.number_format = numbers.BUILTIN_FORMATS[7]  # 将单元格格式设为“货币”\n",
        "          \n",
        "    START_INDEX = chr(ord(START_INDEX) + 4)  # 将 START_INDEX 向右移动 4 个列\n",
        "\n",
        "for cell in ws['1']:\n",
        "    cell.border = TOP_ROW_BORDER\n",
        "\n",
        "for row in range(2, ARBITRAGE_EVENTS_COUNT + 2):\n",
        "    for cell in ws[str(row)]:\n",
        "        cell.border = NORMAL_ROW_BORDER\n",
        "    \n",
        "wb.save('体育博彩跨平台套利计算结果.xlsx')  # 将结果保存文件为体育博彩跨平台套利计算结果.xlsx"
      ]
    },
    {
      "cell_type": "code",
      "execution_count": null,
      "id": "06858b4a",
      "metadata": {
        "id": "06858b4a"
      },
      "outputs": [],
      "source": [
        "###结束所有操作，点击左边的文件夹下载体育博彩跨平台套利计算结果.xlsx文件即可。"
      ]
    }
  ],
  "metadata": {
    "kernelspec": {
      "display_name": "Python 3 (ipykernel)",
      "language": "python",
      "name": "python3"
    },
    "language_info": {
      "codemirror_mode": {
        "name": "ipython",
        "version": 3
      },
      "file_extension": ".py",
      "mimetype": "text/x-python",
      "name": "python",
      "nbconvert_exporter": "python",
      "pygments_lexer": "ipython3",
      "version": "3.9.7"
    },
    "colab": {
      "provenance": [],
      "collapsed_sections": [
        "795b37df",
        "0737847a",
        "4cf86515",
        "84aa0611"
      ],
      "include_colab_link": true
    }
  },
  "nbformat": 4,
  "nbformat_minor": 5
}